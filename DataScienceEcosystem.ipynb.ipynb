{
 "cells": [
  {
   "cell_type": "markdown",
   "metadata": {},
   "source": [
    "<center>\n",
    "    <img src=\"https://cf-courses-data.s3.us.cloud-object-storage.appdomain.cloud/IBMDeveloperSkillsNetwork-DS0105EN-SkillsNetwork/labs/Module2/images/SN_web_lightmode.png\" width=\"300\" alt=\"cognitiveclass.ai logo\">\n",
    "</center>\n"
   ]
  },
  {
   "cell_type": "markdown",
   "metadata": {},
   "source": [
    "#### Add your code below following the instructions given in the course\n"
   ]
  },
  {
   "cell_type": "markdown",
   "metadata": {},
   "source": [
    "# DataScienceEcosystem"
   ]
  },
  {
   "cell_type": "markdown",
   "metadata": {},
   "source": [
    "In this notebook, Data Science Tools and Ecosystem are summarized."
   ]
  },
  {
   "cell_type": "markdown",
   "metadata": {},
   "source": [
    "## Some of the popular languages that Data Scientists use are:\n",
    "\n",
    "1. Python: A versatile and widely adopted language for data science. It boasts a rich ecosystem of libraries and frameworks specifically designed for data manipulation, analysis, visualization, and machine learning.\n",
    "2. R: A statistical programming language renowned for its powerful data analysis capabilities. It's widely used in academia and research for statistical modeling, data visualization, and scientific computing.\n",
    "3. SQL: A standard language for managing and querying relational databases. Data scientists often use SQL to access, extract, and manipulate data stored in databases, which are a common source of data for analysis.\n",
    "4. Java: A robust and object-oriented programming language often used for building large-scale data processing and analysis applications. Its performance and scalability make it suitable for handling massive datasets. \n",
    "5. Scala: A functional programming language that runs on the Java Virtual Machine (JVM). It's gaining popularity in the data science world for its concise syntax, efficient execution, and ability to handle big data. \n",
    "6. Julia: A high-performance language designed for numerical analysis and scientific computing. It combines the expressiveness of Python with the speed of C, making it a promising language for data science and machine learning."
   ]
  },
  {
   "cell_type": "markdown",
   "metadata": {},
   "source": [
    "## Some of the commonly used libraries used by Data Scientists include:\n",
    "\n",
    "1. NumPy: A fundamental library for numerical computation in Python. It provides high-performance multidimensional arrays and mathematical functions to efficiently handle large datasets.\n",
    "2. Pandas: A powerful library for data manipulation and analysis. It offers data structures like DataFrames and Series, making it easy to clean, transform, and explore data. \n",
    "3. Scikit-learn: A comprehensive machine learning library providing tools for classification, regression, clustering, dimensionality reduction, and more. It's known for its user-friendly interface and well-documented algorithms.\n",
    "4. Matplotlib: A versatile plotting library for creating static, interactive, and animated visualizations in Python. It allows data scientists to effectively present their findings and gain insights from data.\n",
    "5. Seaborn: A high-level statistical data visualization library built on top of Matplotlib. It provides attractive and informative visualizations for statistical data, making it easy to explore relationships and trends. \n",
    "6. TensorFlow: An open-source machine learning framework developed by Google. It's widely used for building and deploying deep learning models, particularly in areas like computer vision and natural language processing.\n",
    "7. PyTorch: Another popular deep learning framework known for its flexibility and ease of use. It's used for research and development of various deep learning applications."
   ]
  },
  {
   "cell_type": "markdown",
   "metadata": {},
   "source": [
    "## Data Science Tools\n",
    "\n",
    "|Data Science Tools |\n",
    "|----|\n",
    "|Jupyter Notebook|\n",
    "| RStudio |\n",
    "| VS Code |"
   ]
  },
  {
   "cell_type": "markdown",
   "metadata": {},
   "source": [
    "### Below are a few examples of evaluating arithmetic expressions in Python."
   ]
  },
  {
   "cell_type": "code",
   "execution_count": 1,
   "metadata": {
    "tags": []
   },
   "outputs": [
    {
     "data": {
      "text/plain": [
       "17"
      ]
     },
     "execution_count": 1,
     "metadata": {},
     "output_type": "execute_result"
    }
   ],
   "source": [
    "# This is a simple arithmetic expression to multiply then add integers.\n",
    "(3 * 4) + 5"
   ]
  },
  {
   "cell_type": "code",
   "execution_count": 2,
   "metadata": {
    "tags": []
   },
   "outputs": [
    {
     "data": {
      "text/plain": [
       "3.3333333333333335"
      ]
     },
     "execution_count": 2,
     "metadata": {},
     "output_type": "execute_result"
    }
   ],
   "source": [
    "# This will convert 200 minutes to hours by dividing by 60.\n",
    "200 / 60"
   ]
  },
  {
   "cell_type": "markdown",
   "metadata": {},
   "source": [
    "## Objectives:\n",
    "\n",
    "• List popular languages for Data Science\n",
    "\n",
    "• List popular libraries for Data Science\n",
    "\n",
    "• List popular development environment tools for Data Science\n",
    "\n",
    "• Evaluate simple arithmetic expressions in Python \n",
    "\n",
    "• Convert minutes to hours using Python"
   ]
  },
  {
   "cell_type": "markdown",
   "metadata": {},
   "source": [
    "## Author\n",
    "\n",
    "Mawada MOHAMMED"
   ]
  },
  {
   "cell_type": "code",
   "execution_count": null,
   "metadata": {},
   "outputs": [],
   "source": []
  }
 ],
 "metadata": {
  "kernelspec": {
   "display_name": "Python",
   "language": "python",
   "name": "conda-env-python-py"
  },
  "language_info": {
   "codemirror_mode": {
    "name": "ipython",
    "version": 3
   },
   "file_extension": ".py",
   "mimetype": "text/x-python",
   "name": "python",
   "nbconvert_exporter": "python",
   "pygments_lexer": "ipython3",
   "version": "3.7.12"
  }
 },
 "nbformat": 4,
 "nbformat_minor": 4
}
